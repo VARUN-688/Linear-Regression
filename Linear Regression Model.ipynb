{
 "cells": [
  {
   "cell_type": "code",
   "execution_count": 1,
   "id": "32972b56",
   "metadata": {},
   "outputs": [],
   "source": [
    "import pandas as pd\n",
    "import numpy as np"
   ]
  },
  {
   "cell_type": "code",
   "execution_count": 2,
   "id": "48fc458b",
   "metadata": {},
   "outputs": [],
   "source": [
    "def get_variance(func):\n",
    "        def wrap(a):\n",
    "            x_mean=np.mean(a)\n",
    "            temp_x=[t**2 for t in a-x_mean]\n",
    "            variance_x=np.sum(temp_x)/(len(a))\n",
    "            s_x=variance_x**0.5\n",
    "            dic={'Mean':x_mean,'Variance':variance_x,'Standard_Deviation':s_x}\n",
    "            return dic\n",
    "\n",
    "        return wrap\n",
    "@get_variance\n",
    "def get_standard_deviation(a):\n",
    "        pass"
   ]
  },
  {
   "cell_type": "code",
   "execution_count": 3,
   "id": "b1899b20",
   "metadata": {},
   "outputs": [],
   "source": [
    " def covariance(func):\n",
    "        def wrap(a,b):\n",
    "            x=get_standard_deviation(a)\n",
    "            y=get_standard_deviation(b)\n",
    "            temp_xy=(np.sum((a-x['Mean'])*(b-y['Mean'])))/(x['Standard_Deviation']*y['Standard_Deviation'])\n",
    "            coefficient_r=temp_xy/len(a)\n",
    "            return (coefficient_r,x,y)\n",
    "        return wrap\n",
    "@covariance\n",
    "def get_coefficient(a,b):\n",
    "        pass\n",
    "    "
   ]
  },
  {
   "cell_type": "code",
   "execution_count": 4,
   "id": "e7621473",
   "metadata": {},
   "outputs": [],
   "source": [
    "def get_eqaution(a,b):\n",
    "    c=get_coefficient(a,b)\n",
    "    slope=c[0]*(c[2]['Standard_Deviation']/c[1]['Standard_Deviation'])\n",
    "    intercept=c[2]['Mean']-c[1]['Mean']*slope\n",
    "    return f'y={slope}x+{intercept}'"
   ]
  },
  {
   "cell_type": "code",
   "execution_count": 22,
   "id": "25ead85e",
   "metadata": {},
   "outputs": [],
   "source": [
    "class LinearRegression:\n",
    "    def __init(self):\n",
    "        self.x=[]\n",
    "        self.y=[]\n",
    "        self.variance_x=0\n",
    "        self.variance_y=0\n",
    "        self.s_x=0\n",
    "        self.s_y=0\n",
    "        self.coefficient_r=0\n",
    "\n",
    "            \n",
    "    def get_variance(func):\n",
    "        def wrap(self,a):\n",
    "            \n",
    "            x_mean=np.mean(a)\n",
    "            temp_x=[t**2 for t in a-x_mean]\n",
    "            variance_x=np.sum(temp_x)/(len(a))\n",
    "            s_x=variance_x**0.5\n",
    "            dic={'Mean':x_mean,'Variance':variance_x,'Standard_Deviation':s_x}\n",
    "            return dic\n",
    "\n",
    "        return wrap\n",
    "    \n",
    "    @get_variance\n",
    "    def get_standard_deviation(self,a):\n",
    "        pass\n",
    "    \n",
    "    \n",
    "    def covariance(func):\n",
    "        def wrap(self):\n",
    "            a=self.x\n",
    "            b=self.y\n",
    "            temp_x=self.get_standard_deviation(a)\n",
    "            temp_y=self.get_standard_deviation(b)\n",
    "            self.x_variance_x=temp_x['Variance']\n",
    "            self.s_x=temp_x['Standard_Deviation']\n",
    "            self.y_variance=temp_y['Variance']\n",
    "            self.s_y=temp_y['Standard_Deviation']\n",
    "            temp_xy=(np.sum((a-temp_x['Mean'])*(b-temp_y['Mean'])))/(temp_x['Standard_Deviation']*temp_y['Standard_Deviation'])\n",
    "            coefficient_r=temp_xy/len(a)\n",
    "            return (coefficient_r,temp_x,temp_y)\n",
    "        return wrap\n",
    "    \n",
    "    @covariance\n",
    "    def get_coefficient(self):\n",
    "        pass\n",
    "    \n",
    "    \n",
    "    def get_equation(self):\n",
    "        c=self.get_coefficient()\n",
    "        self.coefficient_r=c[0]\n",
    "        self.slope=c[0]*(c[2]['Standard_Deviation']/c[1]['Standard_Deviation'])\n",
    "        self.intercept=c[2]['Mean']-c[1]['Mean']*self.slope\n",
    "        return f'y={self.slope}x+{self.intercept}'\n",
    "    \n",
    "    \n",
    "    def fit(self,a,b):\n",
    "        try:\n",
    "            self.x=np.array(a)\n",
    "            self.y=np.array(b)\n",
    "            self.equation=self.get_equation()\n",
    "        except:\n",
    "            raise\n",
    "    def predict(self,x_test,y_test):\n",
    "        res=[]\n",
    "        \n",
    "        for i in x_test:\n",
    "            res.append(self.slope*i+self.intercept)\n",
    "            \n",
    "        y_predict=res\n",
    "        \n",
    "        r_squa=self.r_squared(y_test,y_predict)\n",
    "        \n",
    "        n = len(y_test)\n",
    "        \n",
    "        rmse = np.sqrt(np.sum((y_test - y_predict)**2) / n)\n",
    "        \n",
    "        return f'The model has R-Sqaured = {r_squa} and RMSE={rmse}'\n",
    "    \n",
    "    def r_squared(self, y_test, y_predict):\n",
    "        mean_actual = np.mean(y_test)\n",
    "        r_squared = 1 - (np.sum((y_test - y_predict)**2) / np.sum((y_test - mean_actual)**2))\n",
    "        return r_squared\n",
    "\n",
    "    def __repr__(self):\n",
    "        return f'The model has the equation as {self.equation}'"
   ]
  },
  {
   "cell_type": "code",
   "execution_count": 25,
   "id": "21b5674b",
   "metadata": {},
   "outputs": [
    {
     "name": "stdout",
     "output_type": "stream",
     "text": [
      "The model has the equation as y=2.0x+3.0\n",
      "The model has R-Sqaured = 1.0 and RMSE=0.0\n"
     ]
    }
   ],
   "source": [
    "from sklearn.model_selection import train_test_split\n",
    "model1=LinearRegression()\n",
    "X = np.random.randint(1, 101, size=(10,))\n",
    "y = 2 * X + 3\n",
    "X_train, X_test, y_train, y_test = train_test_split(X, y, test_size=0.2, random_state=42)\n",
    "model1.fit(X_train,y_train)\n",
    "print(model1)\n",
    "print(model1.predict(X_test,y_test))"
   ]
  }
 ],
 "metadata": {
  "kernelspec": {
   "display_name": "Python 3 (ipykernel)",
   "language": "python",
   "name": "python3"
  },
  "language_info": {
   "codemirror_mode": {
    "name": "ipython",
    "version": 3
   },
   "file_extension": ".py",
   "mimetype": "text/x-python",
   "name": "python",
   "nbconvert_exporter": "python",
   "pygments_lexer": "ipython3",
   "version": "3.10.9"
  }
 },
 "nbformat": 4,
 "nbformat_minor": 5
}
